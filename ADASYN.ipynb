{
 "cells": [
  {
   "cell_type": "code",
   "execution_count": 73,
   "metadata": {},
   "outputs": [],
   "source": [
    "import pandas as pd\n",
    "import numpy as np\n",
    "import sklearn.datasets as dataset\n",
    "import matplotlib.pyplot as plt"
   ]
  },
  {
   "cell_type": "code",
   "execution_count": 74,
   "metadata": {},
   "outputs": [],
   "source": [
    "iris=dataset.load_iris()\n",
    "X=iris['data'][:,(2,3)]\n",
    "y=iris['target']\n",
    "y[y!=1]=0"
   ]
  },
  {
   "cell_type": "markdown",
   "metadata": {},
   "source": [
    "If dth < d then (dth is preset threshod for maximum tolereted degree of class imbalance ratio)\n",
    "#0) Calculate the degree of imbalance\n",
    "#1  Calculate the number of synthetic data examples that need to generated for minority class- G = ($m_l$ - $m_s$) * Beta\n",
    "#2) where beta is number of threshold instances to be generated if Beta is 1 then fully balanced dataset will be genrated\n",
    "#3) for each instance from minority class claculate the k nearest neighbors \n",
    "#4) Calculate ri=delta_i/K where delta_i is number of examples in K-nearest neighbor of $x_i$ that belongs to the majority class\n",
    "#5) Normalised ri according to ricap=ri/summation over all elements in minority class ri ; so ricap is density distribution"
   ]
  },
  {
   "cell_type": "code",
   "execution_count": 94,
   "metadata": {},
   "outputs": [],
   "source": [
    "def ADASYN(X,y):\n",
    "    classes=np.unique(y)\n",
    "    if len(y[y==classes[0]])>len(y[y==classes[1]]):\n",
    "        ms=len(y[y==classes[1]])\n",
    "        ml=len(y[y==classes[0]])\n",
    "        minor,major=classes[1],classes[0]\n",
    "    else:\n",
    "        ms=len(y[y==classes[0]])\n",
    "        ml=len(y[y==classes[1]])\n",
    "        minor,major=classes[0],classes[1]\n",
    "    d=ms/ml\n",
    "\n",
    "    beta=1\n",
    "    G=int((ml-ms)*beta)\n",
    "\n",
    "    K=5\n",
    "    X_=X[y==minor]\n",
    "    KNN=np.zeros((len(X_),K)).astype(np.int)\n",
    "\n",
    "    for i, instance in enumerate(X_):\n",
    "        KNN[i]=np.argsort(np.sqrt(np.sum(np.square(instance-X[~(X==instance).all(1)]),axis=1)))[:K] #you have to X for\n",
    "\n",
    "    ri=np.zeros(len(X_))\n",
    "\n",
    "    for i,elem in enumerate(X[KNN]):\n",
    "        total_instance=0\n",
    "        for row in elem:\n",
    "            total_instance+=len(np.flatnonzero((X[y==major]==row).all(1)))\n",
    "        ri[i]=total_instance/K    \n",
    "\n",
    "    if(sum(ri)!=0):    \n",
    "        normalised_ri=ri/np.sum(ri)\n",
    "    else:\n",
    "        normalised_ri=ri\n",
    "\n",
    "    gi=(normalised_ri*G).astype(np.int)\n",
    "\n",
    "    si=np.zeros((np.sum(gi),X.shape[1]))\n",
    "    last_index=0\n",
    "\n",
    "    for i in range(len(gi)):\n",
    "        if gi[i]!=0:\n",
    "            for k in range(gi[i]):\n",
    "                lambda_selector=np.random.randint(0,2)\n",
    "                random_instance_selector=np.random.randint(0,K)\n",
    "                xzi=X[KNN[i][random_instance_selector]]\n",
    "                while (xzi==X[y==minor]).all(1).any()==False:\n",
    "                    random_instance_selector=np.random.randint(0,K)\n",
    "                    xzi=X[KNN[i][random_instance_selector]]\n",
    "                xi=X_[i]\n",
    "                si[last_index]=xi+(xzi-xi)*lambda_selector\n",
    "                last_index+=1\n",
    "    return si,np.full(len(si),minor)"
   ]
  },
  {
   "cell_type": "code",
   "execution_count": 98,
   "metadata": {},
   "outputs": [],
   "source": [
    "X_extra,y_extra=np.append(X,ADASYN(X,y)[0],axis=0),np.append(y,ADASYN(X,y)[1])"
   ]
  },
  {
   "cell_type": "code",
   "execution_count": 108,
   "metadata": {},
   "outputs": [
    {
     "data": {
      "text/plain": [
       "SVC(C=0.1, cache_size=200, class_weight=None, coef0=0.0,\n",
       "  decision_function_shape='ovr', degree=3, gamma='scale', kernel='rbf',\n",
       "  max_iter=-1, probability=False, random_state=None, shrinking=True,\n",
       "  tol=0.001, verbose=False)"
      ]
     },
     "execution_count": 108,
     "metadata": {},
     "output_type": "execute_result"
    }
   ],
   "source": [
    "from sklearn.svm import SVC\n",
    "svm_clf=SVC(kernel='rbf',C=0.1,gamma='scale')\n",
    "svm_clf.fit(X,y)\n",
    "new_svm_clf=SVC(kernel='rbf',C=0.1,gamma='scale')\n",
    "new_svm_clf.fit(X_extra,y_extra)"
   ]
  },
  {
   "cell_type": "code",
   "execution_count": 109,
   "metadata": {},
   "outputs": [
    {
     "data": {
      "image/png": "[encoded data removed]",
      "text/plain": [
       "<Figure size 1080x360 with 2 Axes>"
      ]
     },
     "metadata": {
      "needs_background": "light"
     },
     "output_type": "display_data"
    }
   ],
   "source": [
    "plt.figure(figsize=(15,5))\n",
    "plt.subplot(121)\n",
    "x1_=np.linspace(0,7,100)\n",
    "x2_=np.linspace(0,2.5,100)\n",
    "x1,x2=np.meshgrid(x1_,x2_)\n",
    "X_new=np.c_[x1.ravel(),x2.ravel()]\n",
    "y_predict=svm_clf.predict(X_new).reshape(x1.shape)\n",
    "plt.contourf(x1,x2,y_predict,cmap=plt.cm.BuPu)\n",
    "plt.plot(X[:,0][y==0],X[:,1][y==0],'b^')\n",
    "plt.plot(X[:,0][y==1],X[:,1][y==1],'r.')\n",
    "plt.xlabel(\"Petal Length\", fontsize=15)\n",
    "plt.ylabel(\"Petal Width\",fontsize=15)\n",
    "plt.xlim([0,7])\n",
    "\n",
    "plt.subplot(122)\n",
    "x1_=np.linspace(0,7,100)\n",
    "x2_=np.linspace(0,2.5,100)\n",
    "x1,x2=np.meshgrid(x1_,x2_)\n",
    "X_new=np.c_[x1.ravel(),x2.ravel()]\n",
    "y_predict=new_svm_clf.predict(X_new).reshape(x1.shape)\n",
    "plt.contourf(x1,x2,y_predict,cmap=plt.cm.BuPu)\n",
    "plt.plot(X_extra[:,0][y_extra==0],X_extra[:,1][y_extra==0],'b^')\n",
    "plt.plot(X_extra[:,0][y_extra==1],X_extra[:,1][y_extra==1],'r.')\n",
    "plt.xlabel(\"Petal Length\", fontsize=15)\n",
    "plt.ylabel(\"Petal Width\",fontsize=15)\n",
    "plt.xlim([0,7])\n",
    "\n",
    "plt.show()"
   ]
  },
  {
   "cell_type": "code",
   "execution_count": 111,
   "metadata": {},
   "outputs": [
    {
     "data": {
      "text/plain": [
       "150"
      ]
     },
     "execution_count": 111,
     "metadata": {},
     "output_type": "execute_result"
    }
   ],
   "source": [
    "len(np.c_[X,y])"
   ]
  },
  {
   "cell_type": "code",
   "execution_count": 116,
   "metadata": {},
   "outputs": [
    {
     "data": {
      "text/plain": [
       "50"
      ]
     },
     "execution_count": 116,
     "metadata": {},
     "output_type": "execute_result"
    }
   ],
   "source": [
    "len(X[:,0][y==1])"
   ]
  }
 ],
 "metadata": {
  "kernelspec": {
   "display_name": "Python 3",
   "language": "python",
   "name": "python3"
  },
  "language_info": {
   "codemirror_mode": {
    "name": "ipython",
    "version": 3
   },
   "file_extension": ".py",
   "mimetype": "text/x-python",
   "name": "python",
   "nbconvert_exporter": "python",
   "pygments_lexer": "ipython3",
   "version": "3.7.3"
  }
 },
 "nbformat": 4,
 "nbformat_minor": 2
}
